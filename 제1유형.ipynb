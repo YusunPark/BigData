{
  "nbformat": 4,
  "nbformat_minor": 0,
  "metadata": {
    "colab": {
      "name": "제1유형.ipynb",
      "provenance": [],
      "collapsed_sections": [],
      "mount_file_id": "1YEZpBn8jdxHwYF6Bpv2OVLe26_dwpfMq",
      "authorship_tag": "ABX9TyO0Zim62wbXXPAcioofLnYU",
      "include_colab_link": true
    },
    "kernelspec": {
      "name": "python3",
      "display_name": "Python 3"
    },
    "language_info": {
      "name": "python"
    }
  },
  "cells": [
    {
      "cell_type": "markdown",
      "metadata": {
        "id": "view-in-github",
        "colab_type": "text"
      },
      "source": [
        "<a href=\"https://colab.research.google.com/github/YusunPark/BigData/blob/main/%EC%A0%9C1%EC%9C%A0%ED%98%95.ipynb\" target=\"_parent\"><img src=\"https://colab.research.google.com/assets/colab-badge.svg\" alt=\"Open In Colab\"/></a>"
      ]
    },
    {
      "cell_type": "markdown",
      "source": [
        "## 1. 단순한 데이터 분석"
      ],
      "metadata": {
        "id": "IfNoKgTYjdqV"
      }
    },
    {
      "cell_type": "markdown",
      "source": [
        "- data.sort_values(by= , ascending=)\n",
        "- data.fillna(대체할 값, inplace=True)\n",
        "- data.dropna(inplace=True) : 결측치 행 삭제\n",
        "- new_data = data.drop(columns = ['CHAR', 'RAD'])\n",
        "- new_data.iloc[0:29] = 41.7 (값 대체)\n",
        "- data.groupby(['AGE'])['AGE'].count()"
      ],
      "metadata": {
        "id": "sBdsrGVJp7F1"
      }
    },
    {
      "cell_type": "code",
      "source": [
        "import pandas as pd\n",
        "import numpy as np\n",
        "\n",
        "boston = pd.read_csv('/content/drive/MyDrive/빅분기 실기/boston.csv')"
      ],
      "metadata": {
        "id": "-VvYMDNPpD42"
      },
      "execution_count": 1,
      "outputs": []
    },
    {
      "cell_type": "code",
      "source": [
        "# 1.1 Top 10 구하기\n",
        "# MEDV 컬럼 오름차순 정렬된 값의 상위 10개  -> sort_value(by= , ascending=)\n",
        "\n",
        "import pandas as pd\n",
        "boston = pd.read_csv('/content/drive/MyDrive/빅분기 실기/boston.csv')\n",
        "\n",
        "print(boston.sort_values(by='MEDV')['MEDV'].head(10))"
      ],
      "metadata": {
        "colab": {
          "base_uri": "https://localhost:8080/"
        },
        "id": "V1Kvy4AQnHtH",
        "outputId": "3161c975-8822-4eb7-ce92-a68e2b5f7439"
      },
      "execution_count": null,
      "outputs": [
        {
          "output_type": "stream",
          "name": "stdout",
          "text": [
            "398    5.0\n",
            "405    5.0\n",
            "400    5.6\n",
            "399    6.3\n",
            "414    7.0\n",
            "489    7.0\n",
            "401    7.2\n",
            "385    7.2\n",
            "415    7.2\n",
            "387    7.4\n",
            "Name: MEDV, dtype: float64\n"
          ]
        }
      ]
    },
    {
      "cell_type": "code",
      "source": [
        "# 1.2 결측치 확인하기\n",
        "# boston의 RM컬럼에 대한 결측치를 \n",
        "# -> 평균값 대치후 산출된 표준편치 값 - 삭제후 산출된 표준편차의 값 차이\n",
        "\n",
        "boston['RM'].isnull().sum()"
      ],
      "metadata": {
        "colab": {
          "base_uri": "https://localhost:8080/"
        },
        "id": "jMY6_j33pNlJ",
        "outputId": "8c31c4d9-d032-4166-b272-d2830ba57be7"
      },
      "execution_count": null,
      "outputs": [
        {
          "output_type": "execute_result",
          "data": {
            "text/plain": [
              "15"
            ]
          },
          "metadata": {},
          "execution_count": 14
        }
      ]
    },
    {
      "cell_type": "code",
      "source": [
        "mean_rm = boston['RM'].copy()\n",
        "mean_rm.fillna(mean_rm.mean(), inplace=True)\n",
        "mean_rm.describe()"
      ],
      "metadata": {
        "colab": {
          "base_uri": "https://localhost:8080/"
        },
        "id": "yVdZfl_Frcs-",
        "outputId": "d66d564f-3fbe-4fff-bcd5-3253993d9c90"
      },
      "execution_count": null,
      "outputs": [
        {
          "output_type": "execute_result",
          "data": {
            "text/plain": [
              "count    506.000000\n",
              "mean       6.285102\n",
              "std        0.697500\n",
              "min        3.561000\n",
              "25%        5.889500\n",
              "50%        6.224500\n",
              "75%        6.605500\n",
              "max        8.780000\n",
              "Name: RM, dtype: float64"
            ]
          },
          "metadata": {},
          "execution_count": 31
        }
      ]
    },
    {
      "cell_type": "code",
      "source": [
        "del_rm = boston['RM'].copy()\n",
        "del_rm = del_rm.dropna()\n",
        "del_rm.describe()"
      ],
      "metadata": {
        "colab": {
          "base_uri": "https://localhost:8080/"
        },
        "id": "-g7c0N2ytHdF",
        "outputId": "a3c2f044-960b-4268-d6b0-6a18e2cb257b"
      },
      "execution_count": null,
      "outputs": [
        {
          "output_type": "execute_result",
          "data": {
            "text/plain": [
              "count    491.000000\n",
              "mean       6.285102\n",
              "std        0.708096\n",
              "min        3.561000\n",
              "25%        5.886000\n",
              "50%        6.209000\n",
              "75%        6.622000\n",
              "max        8.780000\n",
              "Name: RM, dtype: float64"
            ]
          },
          "metadata": {},
          "execution_count": 34
        }
      ]
    },
    {
      "cell_type": "code",
      "source": [
        "print(abs(mean_rm.std() - del_rm.std()))"
      ],
      "metadata": {
        "colab": {
          "base_uri": "https://localhost:8080/"
        },
        "id": "znqE_EB0s-FE",
        "outputId": "d3c88e3a-ba67-40d0-e1b4-cba1b0e00fb3"
      },
      "execution_count": null,
      "outputs": [
        {
          "output_type": "stream",
          "name": "stdout",
          "text": [
            "0.010595546094104513\n"
          ]
        }
      ]
    },
    {
      "cell_type": "code",
      "source": [
        "# 1.3 이상값 확인하기\n",
        "# boston에서 ZN 칼럼의 평균값에서 표전편차의 1.5배보다 크거나 작은 ZN값의 합계\n",
        "\n",
        "zn_max = boston['ZN'].mean() + (1.5 * boston['ZN'].std())\n",
        "zn_min = boston['ZN'].mean() - (1.5 * boston['ZN'].std())\n",
        "\n",
        "max = boston[boston['ZN'] > zn_max]['ZN'].sum()\n",
        "min = boston[boston['ZN'] < zn_min]['ZN'].sum()\n",
        "\n",
        "print(max+min)"
      ],
      "metadata": {
        "colab": {
          "base_uri": "https://localhost:8080/"
        },
        "id": "i6RZC7lGrnGG",
        "outputId": "6218da88-9024-4320-b6bd-3797e08864ee"
      },
      "execution_count": null,
      "outputs": [
        {
          "output_type": "stream",
          "name": "stdout",
          "text": [
            "3462.5\n"
          ]
        }
      ]
    },
    {
      "cell_type": "code",
      "source": [
        "# 1.4 사분위수 구하기\n",
        "# boston 데이터에서 CHAS, RAD칼럼을 제외한 칼럼에 한해서 IQR 값을 구해라\n",
        "# 출력구조는 2열이고 , 1열에는 컬럼의 이름\n",
        "\n",
        "data = boston.drop(columns = ['CHAS', 'RAD'])\n",
        "data_desc = data.describe().transpose()\n",
        "\n",
        "print(data_desc['75%'] - data_desc['25%'])"
      ],
      "metadata": {
        "colab": {
          "base_uri": "https://localhost:8080/"
        },
        "id": "YdGIfW4XrpP6",
        "outputId": "7b9f5e5b-d240-4007-9f5f-27b2e8f6431a"
      },
      "execution_count": null,
      "outputs": [
        {
          "output_type": "stream",
          "name": "stdout",
          "text": [
            "CRIM         3.595038\n",
            "ZN          12.500000\n",
            "INDUS       12.910000\n",
            "NOX          0.175000\n",
            "RM           0.736000\n",
            "AGE         49.050000\n",
            "DIS          3.088250\n",
            "TAX        387.000000\n",
            "PTRATIO      2.800000\n",
            "B           20.847500\n",
            "LSTAT       10.005000\n",
            "MEDV         7.975000\n",
            "dtype: float64\n"
          ]
        }
      ]
    },
    {
      "cell_type": "code",
      "source": [
        "# 1.5 순위 구하기\n",
        "# boston 데이터에서 MEDV칼럼을 기준으로 30번째 큰 값을, 1~29번째로 큰 값에 적용. \n",
        "# -> 그 후 칼럼의 평균, 중위, 최소, 최대값을 한 줄로\n",
        "\n",
        "data_medv = boston['MEDV'].copy()\n",
        "new_data = data_medv.sort_values(ascending=False)\n",
        "new_data.iloc[0:29] = 41.7\n",
        "print(new_data.mean(), new_data.median(), new_data.min(), new_data.max())"
      ],
      "metadata": {
        "colab": {
          "base_uri": "https://localhost:8080/"
        },
        "id": "o2AAsPvOr6df",
        "outputId": "97f05f02-30aa-4946-a383-ed7522bc5109"
      },
      "execution_count": null,
      "outputs": [
        {
          "output_type": "stream",
          "name": "stdout",
          "text": [
            "22.1796442687747 21.2 5.0 41.7\n"
          ]
        }
      ]
    },
    {
      "cell_type": "markdown",
      "source": [
        "## 2. 복잡한 데이터 분석"
      ],
      "metadata": {
        "id": "vDCaLc3nH4Wq"
      }
    },
    {
      "cell_type": "code",
      "source": [
        "# 2.1 그룹별 집계 / 요약하기\n",
        "# boston 데이터의 TAX 칼럼에서 중위값보다 큰 데이터 대상으로 CHAS, RAD 칼럼 순으로 그룹을 지은 후\n",
        "# 각 그룹의 데이터의 개수를 구하라\n",
        "\n",
        "median = boston['TAX'].median()\n",
        "new_data = boston[boston['TAX'] > median][['CHAS', 'RAD']]\n",
        "group_data = new_data.groupby(by=['CHAS', 'RAD'])['RAD'].count()\n",
        "# print(type(group_data))\n",
        "group_data = pd.DataFrame(group_data)\n",
        "group_data.columns = ['COUNT']\n",
        "print(group_data)"
      ],
      "metadata": {
        "colab": {
          "base_uri": "https://localhost:8080/"
        },
        "id": "uPKc3rsAJ0h9",
        "outputId": "cae07cfa-3ca2-47e7-f6ed-589e64003621"
      },
      "execution_count": null,
      "outputs": [
        {
          "output_type": "stream",
          "name": "stdout",
          "text": [
            "          COUNT\n",
            "CHAS RAD       \n",
            "0    1        3\n",
            "     2        2\n",
            "     3        5\n",
            "     4       33\n",
            "     5       51\n",
            "     6       17\n",
            "     24     124\n",
            "1    5        7\n",
            "     24       8\n"
          ]
        }
      ]
    },
    {
      "cell_type": "code",
      "source": [
        "# 2.2 오름차순/내림차순 정렬하기\n",
        "# boston 데이터의 TAX컬럼을 오름차순/내림차순으로 정렬하고, 각 쌍의 차이의 분산을 구하라\n",
        "\n",
        "ascending = boston['TAX'].sort_values().reset_index(drop=True)\n",
        "descending = boston['TAX'].sort_values(ascending=False).reset_index(drop=True)\n",
        "\n",
        "diff = abs(ascending - descending)\n",
        "diff.describe()\n",
        "\n",
        "# 분산은 var/ 표준편차는 std\n",
        "print(diff.var())"
      ],
      "metadata": {
        "id": "Y8-CpaQtVVuZ",
        "colab": {
          "base_uri": "https://localhost:8080/"
        },
        "outputId": "2d26ca80-dec0-4901-e3f1-8b4475b60557"
      },
      "execution_count": null,
      "outputs": [
        {
          "output_type": "stream",
          "name": "stdout",
          "text": [
            "28490.598645951555\n"
          ]
        }
      ]
    },
    {
      "cell_type": "code",
      "source": [
        "# 2.3 최소최대 변환하기\n",
        "# boston 데이터의 MEDV컬럼을 MinMaxScale로 변환하고 0.5보다 큰 값을 가지는 레코드의 수를 구하라\n",
        "\n",
        "from sklearn.preprocessing import MinMaxScaler\n",
        "\n",
        "medv = boston.copy()\n",
        "\n",
        "scaler = MinMaxScaler()\n",
        "data_minmax = scaler.fit_transform(medv)\n",
        "\n",
        "# data_minmax 변수를 데이터 프레임으로 변환하기\n",
        "data_minmax = pd.DataFrame(data_minmax, columns = medv.columns)\n",
        "\n",
        "print(data_minmax[data_minmax['MEDV'] > 0.5]['MEDV'].count())"
      ],
      "metadata": {
        "id": "aiej4f94V37E",
        "colab": {
          "base_uri": "https://localhost:8080/"
        },
        "outputId": "317dd7a0-c214-4da6-de4a-ad7c20ffbfd2"
      },
      "execution_count": 8,
      "outputs": [
        {
          "output_type": "stream",
          "name": "stdout",
          "text": [
            "106\n"
          ]
        }
      ]
    },
    {
      "cell_type": "code",
      "source": [
        "# 2.4 빈도값 구하기\n",
        "# boston 데이터의 AGE 칼럼을 소수점 첫 번째 자리에서 반올림하고,\n",
        "# 가장 많은 비중을 차지하는 AGE 값과 그 개수를 차례대로 출력하라 -> 최빈값과, 그의 개수 출력\n",
        "\n",
        "age = boston['AGE']\n",
        "age = age.round(0)\n",
        "data = pd.DataFrame(age)\n",
        "data2 = pd.DataFrame(data.groupby(['AGE'])['AGE'].count())\n",
        "data2.columns = ['COUNT']\n",
        "\n",
        "data2.reset_index(drop=False, inplace=True)\n",
        "data2.sort_values(by='COUNT', ascending=False, inplace=True)\n",
        "\n",
        "print(data2.iloc[0][1])"
      ],
      "metadata": {
        "id": "cHxLLhOMV_2s",
        "colab": {
          "base_uri": "https://localhost:8080/"
        },
        "outputId": "2194f1e5-f47a-4017-c42f-8258bff41501"
      },
      "execution_count": 52,
      "outputs": [
        {
          "output_type": "stream",
          "name": "stdout",
          "text": [
            "43.0\n"
          ]
        }
      ]
    },
    {
      "cell_type": "code",
      "source": [
        "# 2.4 빈도값 구하기\n",
        "# boston 데이터의 AGE 칼럼을 소수점 첫 번째 자리에서 반올림하고,\n",
        "# 가장 많은 비중을 차지하는 AGE 값과 그 개수를 차례대로 출력하라 -> 최빈값과, 그의 개수 출력\n",
        "\n",
        "from scipy.stats import mode \n",
        "\n",
        "age = pd.DataFrame(boston['AGE'].round(0))\n",
        "print(mode(age))\n"
      ],
      "metadata": {
        "id": "TN0pB_1KPcLu",
        "colab": {
          "base_uri": "https://localhost:8080/"
        },
        "outputId": "f5898cc3-efa4-4fc9-dfee-53afc8005a64"
      },
      "execution_count": 53,
      "outputs": [
        {
          "output_type": "stream",
          "name": "stdout",
          "text": [
            "ModeResult(mode=array([[100.]]), count=array([[43]]))\n"
          ]
        }
      ]
    },
    {
      "cell_type": "code",
      "source": [
        "# 2.5 표준 변환하기 (StandardScaler)\n",
        "# boston 데이터의 DIS컬럼을 표준화 척도로 변환후, 0.4~0.6 값에 대한 평균을 구하라\n",
        "\n",
        "from sklearn.preprocessing import StandardScaler\n",
        "\n",
        "data = boston.copy()\n",
        "scaler = StandardScaler()\n",
        "\n",
        "scale_data = scaler.fit_transform(data)\n",
        "data2 = pd.DataFrame(scale_data, columns=data.columns)\n",
        "\n",
        "print(data2[(data2['DIS'] < 0.6) & (data2['DIS']> 0.4) ]['DIS'].mean().round(3))"
      ],
      "metadata": {
        "colab": {
          "base_uri": "https://localhost:8080/"
        },
        "id": "ZhWhHIWnhr-D",
        "outputId": "2005a2ec-b447-4cbf-e3e8-6d0e396f5bd7"
      },
      "execution_count": 63,
      "outputs": [
        {
          "output_type": "execute_result",
          "data": {
            "text/plain": [
              "0.48"
            ]
          },
          "metadata": {},
          "execution_count": 63
        }
      ]
    },
    {
      "cell_type": "code",
      "source": [
        "# 2.6 유니크한 값 구하기\n",
        "# boston 데이터의 전체 컬럼에서 중복을 제거한 유니크한 값을 구하고, 컬럼별로 유니크한 값의 개수를 기준으로 평균값\n",
        "\n",
        "data = boston.copy()\n"
      ],
      "metadata": {
        "id": "JG6UHCBPmlan"
      },
      "execution_count": 64,
      "outputs": []
    },
    {
      "cell_type": "code",
      "source": [
        "sum = 0\n",
        "count = 0\n",
        "for i in data:\n",
        "  sum += len(data[i].unique())\n",
        "  count += 1\n",
        "\n",
        "print(sum / count)\n",
        "\n",
        "  "
      ],
      "metadata": {
        "colab": {
          "base_uri": "https://localhost:8080/"
        },
        "id": "fKAdh7emrLa8",
        "outputId": "56f04547-9eeb-4821-cac9-6852af4c3451"
      },
      "execution_count": 72,
      "outputs": [
        {
          "output_type": "stream",
          "name": "stdout",
          "text": [
            "218.07142857142858\n"
          ]
        }
      ]
    },
    {
      "cell_type": "code",
      "source": [
        "sum"
      ],
      "metadata": {
        "colab": {
          "base_uri": "https://localhost:8080/"
        },
        "id": "5daRk_TMrMDO",
        "outputId": "1b8ade3f-c383-41a3-bbe5-fd87ca33c166"
      },
      "execution_count": 73,
      "outputs": [
        {
          "output_type": "execute_result",
          "data": {
            "text/plain": [
              "3053"
            ]
          },
          "metadata": {},
          "execution_count": 73
        }
      ]
    },
    {
      "cell_type": "code",
      "source": [
        "sum = 0\n",
        "\n",
        "for i in data:\n",
        "  sum += int(pd.DataFrame(data[i].unique()).count())\n",
        "\n",
        "print(sum)\n",
        "\n",
        "  "
      ],
      "metadata": {
        "colab": {
          "base_uri": "https://localhost:8080/"
        },
        "id": "kGsmEZB_rMVg",
        "outputId": "610f7901-d55d-4103-b251-43241d9840ac"
      },
      "execution_count": 75,
      "outputs": [
        {
          "output_type": "stream",
          "name": "stdout",
          "text": [
            "3052\n"
          ]
        }
      ]
    },
    {
      "cell_type": "code",
      "source": [
        ""
      ],
      "metadata": {
        "id": "m8lA9-2dsmp-"
      },
      "execution_count": null,
      "outputs": []
    }
  ]
}